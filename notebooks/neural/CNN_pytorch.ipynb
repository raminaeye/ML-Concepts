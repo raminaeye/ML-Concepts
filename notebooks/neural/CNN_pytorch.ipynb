{
 "cells": [
  {
   "cell_type": "markdown",
   "id": "86d691c4",
   "metadata": {},
   "source": [
    "![alternative text](../../data/cnn_chatgpt.png)\n"
   ]
  },
  {
   "cell_type": "code",
   "execution_count": null,
   "id": "1f5b6e47",
   "metadata": {},
   "outputs": [],
   "source": []
  }
 ],
 "metadata": {
  "kernelspec": {
   "display_name": "Python 3 (ipykernel)",
   "language": "python",
   "name": "python3"
  },
  "language_info": {
   "codemirror_mode": {
    "name": "ipython",
    "version": 3
   },
   "file_extension": ".py",
   "mimetype": "text/x-python",
   "name": "python",
   "nbconvert_exporter": "python",
   "pygments_lexer": "ipython3",
   "version": "3.8.12"
  }
 },
 "nbformat": 4,
 "nbformat_minor": 5
}
