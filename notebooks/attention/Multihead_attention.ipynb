{
 "cells": [
  {
   "cell_type": "markdown",
   "id": "f36e33c6",
   "metadata": {},
   "source": [
    "# Implementation for Multi-head attention \n",
    "\n",
    "Ramin Anushiravani \\\n",
    "09/14/2024\n",
    "\n",
    "This notebook implements a multihead attention using pytorch. "
   ]
  },
  {
   "cell_type": "code",
   "execution_count": null,
   "id": "a2f1bd90",
   "metadata": {},
   "outputs": [],
   "source": [
    "import torch\n",
    "import torch.nn as nn\n",
    "import torch.nn.functional as F\n",
    "\n",
    "class MultiHeadSelfAttention(nn.Module):\n",
    "    def __init__(self, embed_size, num_heads):\n",
    "        super(MultiHeadSelfAttention, self).__init__()\n",
    "        self.embed_size = embed_size\n",
    "        self.num_heads = num_heads\n",
    "        self.head_dim = embed_size // num_heads\n",
    "\n",
    "        assert (\n",
    "            self.head_dim * num_heads == embed_size\n",
    "        ), \"Embedding size must be divisible by num_heads\"\n",
    "\n",
    "        self.values = nn.Linear(embed_size, embed_size)\n",
    "        self.keys = nn.Linear(embed_size, embed_size)\n",
    "        self.queries = nn.Linear(embed_size, embed_size)\n",
    "        self.fc_out = nn.Linear(embed_size, embed_size)\n",
    "\n",
    "    def forward(self, x):\n",
    "        N = x.shape[0]\n",
    "        seq_len = x.shape[1]\n",
    "        \n",
    "        # Split the embedding into multiple heads\n",
    "        values = self.values(x).view(N, seq_len, self.num_heads, self.head_dim)\n",
    "        keys = self.keys(x).view(N, seq_len, self.num_heads, self.head_dim)\n",
    "        queries = self.queries(x).view(N, seq_len, self.num_heads, self.head_dim)\n",
    "        \n",
    "        values = values.permute(0, 2, 1, 3)\n",
    "        keys = keys.permute(0, 2, 1, 3)\n",
    "        queries = queries.permute(0, 2, 1, 3)\n",
    "\n",
    "        # Calculate the attention score\n",
    "        attention_score = torch.einsum(\"nqhd,nkhd->nhqk\", [queries, keys])  # (N, num_heads, query_len, key_len)\n",
    "        \n",
    "       # Calculate the probability of attention weights \n",
    "        weighted_sum = torch.nn.functional.softmax(attention_score / (self.embed_size ** (1 / 2)), dim=3)\n",
    "        \n",
    "         # Calculate final output by multiplying the weight vector with the attention weights\n",
    "        out = torch.einsum(\"nhql,nlhd->nqhd\", [weighted_sum, values])\n",
    "        out = out.permute(0, 2, 1, 3).contiguous().view(N, seq_len, self.embed_size)\n",
    "        out = self.fc_out(out)\n",
    "        \n",
    "        return out\n"
   ]
  },
  {
   "cell_type": "code",
   "execution_count": null,
   "id": "4a27c8fa",
   "metadata": {},
   "outputs": [],
   "source": [
    "# Test the MultiHeadSelfAttention class\n",
    "embed_size = 256  # Embedding size (must be divisible by num_heads)\n",
    "num_heads = 8  # Number of attention heads\n",
    "\n",
    "self_attn = MultiHeadSelfAttention(embed_size, num_heads)\n",
    "\n",
    "# Dummy inputs\n",
    "N = 10  # Batch size\n",
    "seq_len = 20  # Sequence length\n",
    "x = torch.rand(N, seq_len, embed_size)  # Input tensor\n",
    "\n",
    "output = self_attn(x)\n",
    "print(output.shape)  # Expected output shape: (N, seq_len, embed_size)\n"
   ]
  }
 ],
 "metadata": {
  "kernelspec": {
   "display_name": "Python 3 (ipykernel)",
   "language": "python",
   "name": "python3"
  },
  "language_info": {
   "codemirror_mode": {
    "name": "ipython",
    "version": 3
   },
   "file_extension": ".py",
   "mimetype": "text/x-python",
   "name": "python",
   "nbconvert_exporter": "python",
   "pygments_lexer": "ipython3",
   "version": "3.8.12"
  }
 },
 "nbformat": 4,
 "nbformat_minor": 5
}
