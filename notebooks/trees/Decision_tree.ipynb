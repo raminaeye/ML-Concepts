{
 "cells": [
  {
   "cell_type": "code",
   "execution_count": 321,
   "id": "f028ecf4",
   "metadata": {},
   "outputs": [],
   "source": [
    "from sklearn.datasets import load_iris\n",
    "from sklearn import tree\n",
    "import graphviz \n",
    "import numpy as np\n",
    "from collections import Counter\n",
    "import pandas as pd"
   ]
  },
  {
   "cell_type": "code",
   "execution_count": 383,
   "id": "6b81ddb8",
   "metadata": {},
   "outputs": [],
   "source": [
    "iris = load_iris()\n",
    "X, y = iris.data, iris.target\n",
    "labels = set(y)"
   ]
  },
  {
   "cell_type": "code",
   "execution_count": 384,
   "id": "15f32c67",
   "metadata": {},
   "outputs": [],
   "source": [
    "# bucketing features \n",
    "feature_pairs\n",
    "for idx in range(X.shape[1]):\n",
    "    feat_ = (X[:,idx])\n",
    "    bucket = np.histogram(feat_)[1]\n",
    "    feature_pairs.append((bucket,feat_))"
   ]
  },
  {
   "cell_type": "code",
   "execution_count": 385,
   "id": "aacb8e6d",
   "metadata": {},
   "outputs": [],
   "source": [
    "# Calculating total entropy\n",
    "probs = [x[1]/len(y) for x in Counter(y).items()]\n",
    "log_probs = -np.log2(probs)\n",
    "total_entropy = np.sum(probs*log_probs)"
   ]
  },
  {
   "cell_type": "code",
   "execution_count": 386,
   "id": "dabfbb41",
   "metadata": {},
   "outputs": [],
   "source": [
    "# For each value of the feature, find its likelihood given each label\n",
    "gains = []\n",
    "for fs,feature_ in feature_pairs : \n",
    "    f_counts = []\n",
    "    for idx in range(len(fs)-1):\n",
    "        # indicies for a feature falling in a range\n",
    "        indicies =  (feature_>fs[idx]) * (feature_<=fs[idx+1])\n",
    "        # classes at those indicies \n",
    "        classes = y[indicies]\n",
    "        # count of the feature in the range given a class\n",
    "        counts = []\n",
    "        for l in labels:\n",
    "            counts.append(np.sum(classes == l))\n",
    "        f_counts.append(counts)\n",
    "    f_matrix = np.array(f_counts) # feature count for labels , num_feats x num_labels \n",
    "    \n",
    "    sums = np.sum(f_matrix,axis=1) # sum over features , total features per class\n",
    "    sums = np.clip(sums, 1, np.max(sums), out=sums)[None,].T# clipping 0 to 1 for division\n",
    "    probs = f_matrix/sums # calculate probability of each feature given the class, sum over all labels (cols) should be 1\n",
    "    log_probs = -np.log2(probs, where=0<probs, out=0*probs) # log prob\n",
    "    \n",
    "    feat_prior = np.sum(f_matrix,axis=1)/len(y)\n",
    "    \n",
    "    cross_entropy = feat_prior *np.sum(log_probs*probs,axis=1)# entropy of the feature \n",
    "    \n",
    "    gains.append(total_entropy-np.sum(cross_entropy)) # information gain of the feature\n",
    "    \n",
    "    "
   ]
  },
  {
   "cell_type": "code",
   "execution_count": 391,
   "id": "a28cb997",
   "metadata": {},
   "outputs": [],
   "source": [
    "root_node = np.argmax(gains) # index of the feature for the root node"
   ]
  },
  {
   "cell_type": "code",
   "execution_count": 433,
   "id": "8caa423d",
   "metadata": {},
   "outputs": [],
   "source": [
    "# picking feature 3 as the root decider\n",
    "top_index = X[:,3] > np.median(X[:,3])\n",
    "bot_index = X[:,3] <= np.median(X[:,3])\n",
    "leaf_right = y[top_index]\n",
    "leaf_left  = y[bot_index]\n",
    "\n",
    "# another way to split the data is using the gini index , the smaller gini index would tell us which feature to use \n",
    "# 1 - prob(class_1)^2 - prob(class_2)^2 - prob(class_3)^2\n",
    "# counting the labels in each leaf \n",
    "count_right = []\n",
    "count_left = []\n",
    "\n",
    "for l in labels:\n",
    "    count_right.append(np.sum(leaf_right==l))\n",
    "    count_left.append(np.sum(leaf_left==l))\n",
    "\n",
    "gini_right = 1 - np.sum(np.power(count_right/np.sum(count_right),2))\n",
    "gini_left  = 1 - np.sum(np.power(count_left/np.sum(count_left),2))\n",
    "weighted_gini = np.sum(np.array(count_right)/len(y) * gini_right + np.array(count_left)/len(y) * gini_left)"
   ]
  },
  {
   "cell_type": "code",
   "execution_count": 435,
   "id": "b6ee3ff8",
   "metadata": {},
   "outputs": [
    {
     "data": {
      "text/plain": [
       "0.44301994301994296"
      ]
     },
     "execution_count": 435,
     "metadata": {},
     "output_type": "execute_result"
    }
   ],
   "source": [
    "weighted_gini"
   ]
  },
  {
   "cell_type": "code",
   "execution_count": null,
   "id": "870e9984",
   "metadata": {},
   "outputs": [],
   "source": []
  }
 ],
 "metadata": {
  "kernelspec": {
   "display_name": "Python 3 (ipykernel)",
   "language": "python",
   "name": "python3"
  },
  "language_info": {
   "codemirror_mode": {
    "name": "ipython",
    "version": 3
   },
   "file_extension": ".py",
   "mimetype": "text/x-python",
   "name": "python",
   "nbconvert_exporter": "python",
   "pygments_lexer": "ipython3",
   "version": "3.8.12"
  }
 },
 "nbformat": 4,
 "nbformat_minor": 5
}
